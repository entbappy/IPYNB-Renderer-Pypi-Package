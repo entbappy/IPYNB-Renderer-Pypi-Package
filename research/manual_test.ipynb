{
 "cells": [
  {
   "cell_type": "code",
   "execution_count": 48,
   "metadata": {},
   "outputs": [
    {
     "data": {
      "text/plain": [
       "('https://youtu.be/M2iklVDKsw0', 0)"
      ]
     },
     "execution_count": 48,
     "metadata": {},
     "output_type": "execute_result"
    }
   ],
   "source": [
    "URL1 = \"https://youtu.be/M2iklVDKsw0\"\n",
    "URL1.split(\"=\")[-1], 0"
   ]
  },
  {
   "cell_type": "code",
   "execution_count": 49,
   "metadata": {},
   "outputs": [
    {
     "data": {
      "text/plain": [
       "('roO5VGxOw2s', 0)"
      ]
     },
     "execution_count": 49,
     "metadata": {},
     "output_type": "execute_result"
    }
   ],
   "source": [
    "URL2 = \"https://youtu.be/roO5VGxOw2s\"\n",
    "URL2.split(\"/\")[-1], 0"
   ]
  },
  {
   "cell_type": "code",
   "execution_count": 50,
   "metadata": {},
   "outputs": [
    {
     "data": {
      "text/plain": [
       "['https://youtu.be/roO5VGxOw2s?t', '60']"
      ]
     },
     "execution_count": 50,
     "metadata": {},
     "output_type": "execute_result"
    }
   ],
   "source": [
    "URL3 = \"https://youtu.be/roO5VGxOw2s?t=60\"\n",
    "URL3.split(\"=\")"
   ]
  },
  {
   "cell_type": "code",
   "execution_count": 51,
   "metadata": {},
   "outputs": [
    {
     "data": {
      "text/plain": [
       "['https:', '', 'youtu.be', 'roO5VGxOw2s?t']"
      ]
     },
     "execution_count": 51,
     "metadata": {},
     "output_type": "execute_result"
    }
   ],
   "source": [
    "URL3.split(\"=\")[0].split(\"/\")"
   ]
  },
  {
   "cell_type": "code",
   "execution_count": 52,
   "metadata": {},
   "outputs": [
    {
     "data": {
      "text/plain": [
       "'roO5VGxOw2s'"
      ]
     },
     "execution_count": 52,
     "metadata": {},
     "output_type": "execute_result"
    }
   ],
   "source": [
    "URL3.split(\"=\")[0].split(\"/\")[-1][:-2]"
   ]
  },
  {
   "cell_type": "code",
   "execution_count": 53,
   "metadata": {},
   "outputs": [
    {
     "data": {
      "text/plain": [
       "['https://www.youtube.com/watch?v', 'roO5VGxOw2s&t', '60s']"
      ]
     },
     "execution_count": 53,
     "metadata": {},
     "output_type": "execute_result"
    }
   ],
   "source": [
    "URL4 = \"https://www.youtube.com/watch?v=roO5VGxOw2s&t=60s\"\n",
    "URL4.split(\"=\")"
   ]
  },
  {
   "cell_type": "code",
   "execution_count": 54,
   "metadata": {},
   "outputs": [
    {
     "data": {
      "text/plain": [
       "'roO5VGxOw2s'"
      ]
     },
     "execution_count": 54,
     "metadata": {},
     "output_type": "execute_result"
    }
   ],
   "source": [
    "URL4.split(\"=\")[-2][:-2]"
   ]
  },
  {
   "cell_type": "code",
   "execution_count": 55,
   "metadata": {},
   "outputs": [],
   "source": [
    "from ipynbRenderer73 import render_YouTube_video"
   ]
  },
  {
   "cell_type": "code",
   "execution_count": 56,
   "metadata": {},
   "outputs": [
    {
     "name": "stdout",
     "output_type": "stream",
     "text": [
      "[2022-09-15 23:47:43,531: INFO: youtube]: video starts at: 0\n",
      "[2022-09-15 23:47:43,533: INFO: youtube]: embed URL: https://www.youtube.com/embed/M2iklVDKsw0?start=0\n"
     ]
    },
    {
     "data": {
      "text/html": [
       "<iframe\n",
       "            width=\"780\" height=\"600\"\n",
       "            src=\"https://www.youtube.com/embed/M2iklVDKsw0?start=0\"\n",
       "            title=\"YouTube video player\"\n",
       "            frameborder=\"0\"\n",
       "            allow=\"accelerometer;\n",
       "            autoplay; clipboard-write;\n",
       "            encrypted-media; gyroscope;\n",
       "            picture-in-picture\" allowfullscreen>\n",
       "            </iframe>\n",
       "            "
      ],
      "text/plain": [
       "<IPython.core.display.HTML object>"
      ]
     },
     "metadata": {},
     "output_type": "display_data"
    },
    {
     "data": {
      "text/plain": [
       "'success'"
      ]
     },
     "execution_count": 56,
     "metadata": {},
     "output_type": "execute_result"
    }
   ],
   "source": [
    "render_YouTube_video(URL1)"
   ]
  },
  {
   "cell_type": "code",
   "execution_count": 57,
   "metadata": {},
   "outputs": [
    {
     "name": "stdout",
     "output_type": "stream",
     "text": [
      "[2022-09-15 23:47:45,197: INFO: youtube]: video starts at: 0\n",
      "[2022-09-15 23:47:45,198: INFO: youtube]: embed URL: https://www.youtube.com/embed/roO5VGxOw2s?start=0\n"
     ]
    },
    {
     "data": {
      "text/html": [
       "<iframe\n",
       "            width=\"780\" height=\"600\"\n",
       "            src=\"https://www.youtube.com/embed/roO5VGxOw2s?start=0\"\n",
       "            title=\"YouTube video player\"\n",
       "            frameborder=\"0\"\n",
       "            allow=\"accelerometer;\n",
       "            autoplay; clipboard-write;\n",
       "            encrypted-media; gyroscope;\n",
       "            picture-in-picture\" allowfullscreen>\n",
       "            </iframe>\n",
       "            "
      ],
      "text/plain": [
       "<IPython.core.display.HTML object>"
      ]
     },
     "metadata": {},
     "output_type": "display_data"
    },
    {
     "data": {
      "text/plain": [
       "'success'"
      ]
     },
     "execution_count": 57,
     "metadata": {},
     "output_type": "execute_result"
    }
   ],
   "source": [
    "render_YouTube_video(URL2)"
   ]
  },
  {
   "cell_type": "code",
   "execution_count": 58,
   "metadata": {},
   "outputs": [
    {
     "name": "stdout",
     "output_type": "stream",
     "text": [
      "[2022-09-15 23:47:47,563: INFO: youtube]: video starts at: 60\n",
      "[2022-09-15 23:47:47,564: INFO: youtube]: embed URL: https://www.youtube.com/embed/roO5VGxOw2s?start=60\n"
     ]
    },
    {
     "data": {
      "text/html": [
       "<iframe\n",
       "            width=\"780\" height=\"600\"\n",
       "            src=\"https://www.youtube.com/embed/roO5VGxOw2s?start=60\"\n",
       "            title=\"YouTube video player\"\n",
       "            frameborder=\"0\"\n",
       "            allow=\"accelerometer;\n",
       "            autoplay; clipboard-write;\n",
       "            encrypted-media; gyroscope;\n",
       "            picture-in-picture\" allowfullscreen>\n",
       "            </iframe>\n",
       "            "
      ],
      "text/plain": [
       "<IPython.core.display.HTML object>"
      ]
     },
     "metadata": {},
     "output_type": "display_data"
    },
    {
     "data": {
      "text/plain": [
       "'success'"
      ]
     },
     "execution_count": 58,
     "metadata": {},
     "output_type": "execute_result"
    }
   ],
   "source": [
    "render_YouTube_video(URL3)"
   ]
  },
  {
   "cell_type": "code",
   "execution_count": 59,
   "metadata": {},
   "outputs": [
    {
     "data": {
      "text/plain": [
       "'https://www.youtube.com/watch?v=roO5VGxOw2s&t=60s'"
      ]
     },
     "execution_count": 59,
     "metadata": {},
     "output_type": "execute_result"
    }
   ],
   "source": [
    "URL4"
   ]
  },
  {
   "cell_type": "code",
   "execution_count": 60,
   "metadata": {},
   "outputs": [
    {
     "name": "stdout",
     "output_type": "stream",
     "text": [
      "[2022-09-15 23:47:48,980: INFO: youtube]: video starts at: 60\n",
      "[2022-09-15 23:47:48,981: INFO: youtube]: embed URL: https://www.youtube.com/embed/roO5VGxOw2s?start=60\n"
     ]
    },
    {
     "data": {
      "text/html": [
       "<iframe\n",
       "            width=\"780\" height=\"600\"\n",
       "            src=\"https://www.youtube.com/embed/roO5VGxOw2s?start=60\"\n",
       "            title=\"YouTube video player\"\n",
       "            frameborder=\"0\"\n",
       "            allow=\"accelerometer;\n",
       "            autoplay; clipboard-write;\n",
       "            encrypted-media; gyroscope;\n",
       "            picture-in-picture\" allowfullscreen>\n",
       "            </iframe>\n",
       "            "
      ],
      "text/plain": [
       "<IPython.core.display.HTML object>"
      ]
     },
     "metadata": {},
     "output_type": "display_data"
    },
    {
     "data": {
      "text/plain": [
       "'success'"
      ]
     },
     "execution_count": 60,
     "metadata": {},
     "output_type": "execute_result"
    }
   ],
   "source": [
    "render_YouTube_video(URL4)"
   ]
  },
  {
   "cell_type": "code",
   "execution_count": 1,
   "metadata": {},
   "outputs": [],
   "source": [
    "from ipynbRenderer73 import render_site"
   ]
  },
  {
   "cell_type": "code",
   "execution_count": 2,
   "metadata": {},
   "outputs": [
    {
     "data": {
      "text/html": [
       "\n",
       "        <iframe\n",
       "            width=\"100%\"\n",
       "            height=\"600\"\n",
       "            src=\"http://pytorch.org/\"\n",
       "            frameborder=\"0\"\n",
       "            allowfullscreen\n",
       "            \n",
       "        ></iframe>\n",
       "        "
      ],
      "text/plain": [
       "<IPython.lib.display.IFrame at 0x1f84a0b5e80>"
      ]
     },
     "metadata": {},
     "output_type": "display_data"
    },
    {
     "data": {
      "text/plain": [
       "'success'"
      ]
     },
     "execution_count": 2,
     "metadata": {},
     "output_type": "execute_result"
    }
   ],
   "source": [
    "URL = \"http://pytorch.org/\"\n",
    "render_site(URL)"
   ]
  },
  {
   "cell_type": "code",
   "execution_count": null,
   "metadata": {},
   "outputs": [],
   "source": []
  }
 ],
 "metadata": {
  "kernelspec": {
   "display_name": "Python 3.8.13",
   "language": "python",
   "name": "python3"
  },
  "language_info": {
   "codemirror_mode": {
    "name": "ipython",
    "version": 3
   },
   "file_extension": ".py",
   "mimetype": "text/x-python",
   "name": "python",
   "nbconvert_exporter": "python",
   "pygments_lexer": "ipython3",
   "version": "3.8.13"
  },
  "orig_nbformat": 4,
  "vscode": {
   "interpreter": {
    "hash": "3b004521ba935f06d4803922e2826529dc81116065066fafe4a2c827dbd1a7a4"
   }
  }
 },
 "nbformat": 4,
 "nbformat_minor": 2
}
