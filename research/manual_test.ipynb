{
 "cells": [
  {
   "cell_type": "code",
   "execution_count": 1,
   "metadata": {},
   "outputs": [
    {
     "data": {
      "text/plain": [
       "('roO5VGxOw2s', 0)"
      ]
     },
     "execution_count": 1,
     "metadata": {},
     "output_type": "execute_result"
    }
   ],
   "source": [
    "URL1 = \"https://www.youtube.com/watch?v=roO5VGxOw2s\"\n",
    "URL1.split(\"=\")[-1], 0"
   ]
  },
  {
   "cell_type": "code",
   "execution_count": 2,
   "metadata": {},
   "outputs": [
    {
     "data": {
      "text/plain": [
       "('roO5VGxOw2s', 0)"
      ]
     },
     "execution_count": 2,
     "metadata": {},
     "output_type": "execute_result"
    }
   ],
   "source": [
    "URL2 = \"https://youtu.be/roO5VGxOw2s\"\n",
    "URL2.split(\"/\")[-1], 0"
   ]
  },
  {
   "cell_type": "code",
   "execution_count": 3,
   "metadata": {},
   "outputs": [
    {
     "data": {
      "text/plain": [
       "['https://youtu.be/roO5VGxOw2s?t', '60']"
      ]
     },
     "execution_count": 3,
     "metadata": {},
     "output_type": "execute_result"
    }
   ],
   "source": [
    "URL3 = \"https://youtu.be/roO5VGxOw2s?t=60\"\n",
    "URL3.split(\"=\")"
   ]
  },
  {
   "cell_type": "code",
   "execution_count": 4,
   "metadata": {},
   "outputs": [
    {
     "data": {
      "text/plain": [
       "['https:', '', 'youtu.be', 'roO5VGxOw2s?t']"
      ]
     },
     "execution_count": 4,
     "metadata": {},
     "output_type": "execute_result"
    }
   ],
   "source": [
    "URL3.split(\"=\")[0].split(\"/\")"
   ]
  },
  {
   "cell_type": "code",
   "execution_count": 5,
   "metadata": {},
   "outputs": [
    {
     "data": {
      "text/plain": [
       "'roO5VGxOw2s'"
      ]
     },
     "execution_count": 5,
     "metadata": {},
     "output_type": "execute_result"
    }
   ],
   "source": [
    "URL3.split(\"=\")[0].split(\"/\")[-1][:-2]"
   ]
  },
  {
   "cell_type": "code",
   "execution_count": 6,
   "metadata": {},
   "outputs": [
    {
     "data": {
      "text/plain": [
       "['https://www.youtube.com/watch?v', 'roO5VGxOw2s&t', '60s']"
      ]
     },
     "execution_count": 6,
     "metadata": {},
     "output_type": "execute_result"
    }
   ],
   "source": [
    "URL4 = \"https://www.youtube.com/watch?v=roO5VGxOw2s&t=60s\"\n",
    "URL4.split(\"=\")"
   ]
  },
  {
   "cell_type": "code",
   "execution_count": 7,
   "metadata": {},
   "outputs": [
    {
     "data": {
      "text/plain": [
       "'roO5VGxOw2s'"
      ]
     },
     "execution_count": 7,
     "metadata": {},
     "output_type": "execute_result"
    }
   ],
   "source": [
    "URL4.split(\"=\")[-2][:-2]"
   ]
  },
  {
   "cell_type": "code",
   "execution_count": 8,
   "metadata": {},
   "outputs": [],
   "source": [
    "from IPYNBrenderer import render_YouTube_video"
   ]
  },
  {
   "cell_type": "code",
   "execution_count": 9,
   "metadata": {},
   "outputs": [
    {
     "name": "stdout",
     "output_type": "stream",
     "text": [
      "[2022-09-07 16:41:12,427: INFO: youtube]: video starts at: 0\n",
      "[2022-09-07 16:41:12,428: INFO: youtube]: embed URL: https://www.youtube.com/embed/roO5VGxOw2s?start=0\n"
     ]
    },
    {
     "data": {
      "text/html": [
       "<iframe \n",
       "            width=\"780\" height=\"600\" \n",
       "            src=\"https://www.youtube.com/embed/roO5VGxOw2s?start=0\" \n",
       "            title=\"YouTube video player\" \n",
       "            frameborder=\"0\" \n",
       "            allow=\"accelerometer; \n",
       "            autoplay; clipboard-write; \n",
       "            encrypted-media; gyroscope; \n",
       "            picture-in-picture\" allowfullscreen>\n",
       "            </iframe>\n",
       "            "
      ],
      "text/plain": [
       "<IPython.core.display.HTML object>"
      ]
     },
     "metadata": {},
     "output_type": "display_data"
    },
    {
     "data": {
      "text/plain": [
       "'success'"
      ]
     },
     "execution_count": 9,
     "metadata": {},
     "output_type": "execute_result"
    }
   ],
   "source": [
    "render_YouTube_video(URL1)"
   ]
  },
  {
   "cell_type": "code",
   "execution_count": 10,
   "metadata": {},
   "outputs": [
    {
     "name": "stdout",
     "output_type": "stream",
     "text": [
      "[2022-09-07 16:41:13,328: INFO: youtube]: video starts at: 0\n",
      "[2022-09-07 16:41:13,330: INFO: youtube]: embed URL: https://www.youtube.com/embed/roO5VGxOw2s?start=0\n"
     ]
    },
    {
     "data": {
      "text/html": [
       "<iframe \n",
       "            width=\"780\" height=\"600\" \n",
       "            src=\"https://www.youtube.com/embed/roO5VGxOw2s?start=0\" \n",
       "            title=\"YouTube video player\" \n",
       "            frameborder=\"0\" \n",
       "            allow=\"accelerometer; \n",
       "            autoplay; clipboard-write; \n",
       "            encrypted-media; gyroscope; \n",
       "            picture-in-picture\" allowfullscreen>\n",
       "            </iframe>\n",
       "            "
      ],
      "text/plain": [
       "<IPython.core.display.HTML object>"
      ]
     },
     "metadata": {},
     "output_type": "display_data"
    },
    {
     "data": {
      "text/plain": [
       "'success'"
      ]
     },
     "execution_count": 10,
     "metadata": {},
     "output_type": "execute_result"
    }
   ],
   "source": [
    "render_YouTube_video(URL2)"
   ]
  },
  {
   "cell_type": "code",
   "execution_count": 11,
   "metadata": {},
   "outputs": [
    {
     "name": "stdout",
     "output_type": "stream",
     "text": [
      "[2022-09-07 16:41:14,233: INFO: youtube]: video starts at: 60\n",
      "[2022-09-07 16:41:14,234: INFO: youtube]: embed URL: https://www.youtube.com/embed/roO5VGxOw2s?start=60\n"
     ]
    },
    {
     "data": {
      "text/html": [
       "<iframe \n",
       "            width=\"780\" height=\"600\" \n",
       "            src=\"https://www.youtube.com/embed/roO5VGxOw2s?start=60\" \n",
       "            title=\"YouTube video player\" \n",
       "            frameborder=\"0\" \n",
       "            allow=\"accelerometer; \n",
       "            autoplay; clipboard-write; \n",
       "            encrypted-media; gyroscope; \n",
       "            picture-in-picture\" allowfullscreen>\n",
       "            </iframe>\n",
       "            "
      ],
      "text/plain": [
       "<IPython.core.display.HTML object>"
      ]
     },
     "metadata": {},
     "output_type": "display_data"
    },
    {
     "data": {
      "text/plain": [
       "'success'"
      ]
     },
     "execution_count": 11,
     "metadata": {},
     "output_type": "execute_result"
    }
   ],
   "source": [
    "render_YouTube_video(URL3)"
   ]
  },
  {
   "cell_type": "code",
   "execution_count": 12,
   "metadata": {},
   "outputs": [
    {
     "data": {
      "text/plain": [
       "'https://www.youtube.com/watch?v=roO5VGxOw2s&t=60s'"
      ]
     },
     "execution_count": 12,
     "metadata": {},
     "output_type": "execute_result"
    }
   ],
   "source": [
    "URL4"
   ]
  },
  {
   "cell_type": "code",
   "execution_count": 13,
   "metadata": {},
   "outputs": [
    {
     "name": "stdout",
     "output_type": "stream",
     "text": [
      "[2022-09-07 16:41:15,507: INFO: youtube]: video starts at: 60\n",
      "[2022-09-07 16:41:15,509: INFO: youtube]: embed URL: https://www.youtube.com/embed/roO5VGxOw2s?start=60\n"
     ]
    },
    {
     "data": {
      "text/html": [
       "<iframe \n",
       "            width=\"780\" height=\"600\" \n",
       "            src=\"https://www.youtube.com/embed/roO5VGxOw2s?start=60\" \n",
       "            title=\"YouTube video player\" \n",
       "            frameborder=\"0\" \n",
       "            allow=\"accelerometer; \n",
       "            autoplay; clipboard-write; \n",
       "            encrypted-media; gyroscope; \n",
       "            picture-in-picture\" allowfullscreen>\n",
       "            </iframe>\n",
       "            "
      ],
      "text/plain": [
       "<IPython.core.display.HTML object>"
      ]
     },
     "metadata": {},
     "output_type": "display_data"
    },
    {
     "data": {
      "text/plain": [
       "'success'"
      ]
     },
     "execution_count": 13,
     "metadata": {},
     "output_type": "execute_result"
    }
   ],
   "source": [
    "render_YouTube_video(URL4)"
   ]
  },
  {
   "cell_type": "code",
   "execution_count": 9,
   "metadata": {},
   "outputs": [],
   "source": [
    "from IPYNBrenderer.custom_exception import InvalidURLException\n",
    "from IPYNBrenderer.logger import logger\n",
    "\n",
    "def get_time_info(URL: str) -> int:\n",
    "    def _verify_vid_id_len(vid_id, __expected_len=11):\n",
    "        len_of_vid_id = len(vid_id)\n",
    "        if len_of_vid_id != __expected_len:\n",
    "            raise InvalidURLException(\n",
    "                f\"Invalid video id with length: {len_of_vid_id}, expected: {__expected_len}\"\n",
    "            )\n",
    "\n",
    "    try:\n",
    "        split_val = URL.split(\"=\")\n",
    "        if len(split_val) > 3:\n",
    "            raise InvalidURLException\n",
    "        if \"watch\" in URL:\n",
    "            if \"&t\" in URL:\n",
    "                vid_id, time = split_val[-2][:-2], int(split_val[-1][:-1])\n",
    "                _verify_vid_id_len(vid_id)\n",
    "                logger.info(f\"video starts at: {time}\")\n",
    "                return time\n",
    "            else:\n",
    "                vid_id, time = split_val[-1], 0\n",
    "                _verify_vid_id_len(vid_id)\n",
    "                logger.info(f\"video starts at: {time}\")\n",
    "                return time\n",
    "        else:\n",
    "            if \"=\" in URL and \"?t\" in URL:\n",
    "                vid_id, time = split_val[0].split(\"/\")[-1][:-2], int(split_val[-1])\n",
    "                _verify_vid_id_len(vid_id)\n",
    "                logger.info(f\"video starts at: {time}\")\n",
    "                return time\n",
    "            else:\n",
    "                vid_id, time = URL.split(\"/\")[-1], 0\n",
    "                _verify_vid_id_len(vid_id)\n",
    "                logger.info(f\"video starts at: {time}\")\n",
    "                return time\n",
    "    except Exception:\n",
    "        raise InvalidURLException\n"
   ]
  },
  {
   "cell_type": "code",
   "execution_count": 10,
   "metadata": {},
   "outputs": [
    {
     "ename": "InvalidURLException",
     "evalue": "URL is not valid",
     "output_type": "error",
     "traceback": [
      "\u001b[1;31m---------------------------------------------------------------------------\u001b[0m",
      "\u001b[1;31mInvalidURLException\u001b[0m                       Traceback (most recent call last)",
      "Cell \u001b[1;32mIn [9], line 15\u001b[0m, in \u001b[0;36mget_time_info\u001b[1;34m(URL)\u001b[0m\n\u001b[0;32m     14\u001b[0m \u001b[38;5;28;01mif\u001b[39;00m \u001b[38;5;28mlen\u001b[39m(split_val) \u001b[38;5;241m>\u001b[39m \u001b[38;5;241m3\u001b[39m:\n\u001b[1;32m---> 15\u001b[0m     \u001b[38;5;28;01mraise\u001b[39;00m InvalidURLException\n\u001b[0;32m     16\u001b[0m \u001b[38;5;28;01mif\u001b[39;00m \u001b[38;5;124m\"\u001b[39m\u001b[38;5;124mwatch\u001b[39m\u001b[38;5;124m\"\u001b[39m \u001b[38;5;129;01min\u001b[39;00m URL:\n",
      "\u001b[1;31mInvalidURLException\u001b[0m: URL is not valid",
      "\nDuring handling of the above exception, another exception occurred:\n",
      "\u001b[1;31mInvalidURLException\u001b[0m                       Traceback (most recent call last)",
      "Cell \u001b[1;32mIn [10], line 1\u001b[0m\n\u001b[1;32m----> 1\u001b[0m \u001b[43mget_time_info\u001b[49m\u001b[43m(\u001b[49m\u001b[38;5;124;43m\"\u001b[39;49m\u001b[38;5;124;43mhttps://www.youtube.com/watch?v==roO5VGxOw2s&t=22s\u001b[39;49m\u001b[38;5;124;43m\"\u001b[39;49m\u001b[43m)\u001b[49m\n",
      "Cell \u001b[1;32mIn [9], line 39\u001b[0m, in \u001b[0;36mget_time_info\u001b[1;34m(URL)\u001b[0m\n\u001b[0;32m     37\u001b[0m             \u001b[38;5;28;01mreturn\u001b[39;00m time\n\u001b[0;32m     38\u001b[0m \u001b[38;5;28;01mexcept\u001b[39;00m \u001b[38;5;167;01mException\u001b[39;00m:\n\u001b[1;32m---> 39\u001b[0m     \u001b[38;5;28;01mraise\u001b[39;00m InvalidURLException\n",
      "\u001b[1;31mInvalidURLException\u001b[0m: URL is not valid"
     ]
    }
   ],
   "source": [
    "get_time_info(\"https://www.youtube.com/watch?v==roO5VGxOw2s&t=22s\")"
   ]
  },
  {
   "cell_type": "code",
   "execution_count": 1,
   "metadata": {},
   "outputs": [],
   "source": [
    "from IPYNBrenderer import render_site\n",
    "from IPYNBrenderer.custom_exception import InvalidURLException"
   ]
  },
  {
   "cell_type": "code",
   "execution_count": 2,
   "metadata": {},
   "outputs": [
    {
     "data": {
      "text/html": [
       "\n",
       "        <iframe\n",
       "            width=\"100%\"\n",
       "            height=\"600\"\n",
       "            src=\"http://pytorch.org/\"\n",
       "            frameborder=\"0\"\n",
       "            allowfullscreen\n",
       "            \n",
       "        ></iframe>\n",
       "        "
      ],
      "text/plain": [
       "<IPython.lib.display.IFrame at 0x284ffb69730>"
      ]
     },
     "metadata": {},
     "output_type": "display_data"
    },
    {
     "data": {
      "text/plain": [
       "'success'"
      ]
     },
     "execution_count": 2,
     "metadata": {},
     "output_type": "execute_result"
    }
   ],
   "source": [
    "URL = \"http://pytorch.org/\"\n",
    "render_site(URL)"
   ]
  },
  {
   "cell_type": "code",
   "execution_count": 3,
   "metadata": {},
   "outputs": [
    {
     "name": "stdout",
     "output_type": "stream",
     "text": [
      "[2022-09-08 03:20:08,205: ERROR: site]: <urlopen error [Errno 11001] getaddrinfo failed>\n",
      "Traceback (most recent call last):\n",
      "  File \"f:\\YOUTUBE_2\\playground\\IPYNBrenderer\\env\\lib\\urllib\\request.py\", line 1354, in do_open\n",
      "    h.request(req.get_method(), req.selector, req.data, headers,\n",
      "  File \"f:\\YOUTUBE_2\\playground\\IPYNBrenderer\\env\\lib\\http\\client.py\", line 1256, in request\n",
      "    self._send_request(method, url, body, headers, encode_chunked)\n",
      "  File \"f:\\YOUTUBE_2\\playground\\IPYNBrenderer\\env\\lib\\http\\client.py\", line 1302, in _send_request\n",
      "    self.endheaders(body, encode_chunked=encode_chunked)\n",
      "  File \"f:\\YOUTUBE_2\\playground\\IPYNBrenderer\\env\\lib\\http\\client.py\", line 1251, in endheaders\n",
      "    self._send_output(message_body, encode_chunked=encode_chunked)\n",
      "  File \"f:\\YOUTUBE_2\\playground\\IPYNBrenderer\\env\\lib\\http\\client.py\", line 1011, in _send_output\n",
      "    self.send(msg)\n",
      "  File \"f:\\YOUTUBE_2\\playground\\IPYNBrenderer\\env\\lib\\http\\client.py\", line 951, in send\n",
      "    self.connect()\n",
      "  File \"f:\\YOUTUBE_2\\playground\\IPYNBrenderer\\env\\lib\\http\\client.py\", line 922, in connect\n",
      "    self.sock = self._create_connection(\n",
      "  File \"f:\\YOUTUBE_2\\playground\\IPYNBrenderer\\env\\lib\\socket.py\", line 787, in create_connection\n",
      "    for res in getaddrinfo(host, port, 0, SOCK_STREAM):\n",
      "  File \"f:\\YOUTUBE_2\\playground\\IPYNBrenderer\\env\\lib\\socket.py\", line 918, in getaddrinfo\n",
      "    for res in _socket.getaddrinfo(host, port, family, type, proto, flags):\n",
      "socket.gaierror: [Errno 11001] getaddrinfo failed\n",
      "\n",
      "During handling of the above exception, another exception occurred:\n",
      "\n",
      "Traceback (most recent call last):\n",
      "  File \"F:\\YOUTUBE_2\\playground\\IPYNBrenderer\\src\\IPYNBrenderer\\site.py\", line 11, in is_valid\n",
      "    response_status = urllib.request.urlopen(URL).getcode()\n",
      "  File \"f:\\YOUTUBE_2\\playground\\IPYNBrenderer\\env\\lib\\urllib\\request.py\", line 222, in urlopen\n",
      "    return opener.open(url, data, timeout)\n",
      "  File \"f:\\YOUTUBE_2\\playground\\IPYNBrenderer\\env\\lib\\urllib\\request.py\", line 525, in open\n",
      "    response = self._open(req, data)\n",
      "  File \"f:\\YOUTUBE_2\\playground\\IPYNBrenderer\\env\\lib\\urllib\\request.py\", line 542, in _open\n",
      "    result = self._call_chain(self.handle_open, protocol, protocol +\n",
      "  File \"f:\\YOUTUBE_2\\playground\\IPYNBrenderer\\env\\lib\\urllib\\request.py\", line 502, in _call_chain\n",
      "    result = func(*args)\n",
      "  File \"f:\\YOUTUBE_2\\playground\\IPYNBrenderer\\env\\lib\\urllib\\request.py\", line 1383, in http_open\n",
      "    return self.do_open(http.client.HTTPConnection, req)\n",
      "  File \"f:\\YOUTUBE_2\\playground\\IPYNBrenderer\\env\\lib\\urllib\\request.py\", line 1357, in do_open\n",
      "    raise URLError(err)\n",
      "urllib.error.URLError: <urlopen error [Errno 11001] getaddrinfo failed>\n"
     ]
    },
    {
     "ename": "InvalidURLException",
     "evalue": "URL is not valid",
     "output_type": "error",
     "traceback": [
      "\u001b[1;31m---------------------------------------------------------------------------\u001b[0m",
      "\u001b[1;31mInvalidURLException\u001b[0m                       Traceback (most recent call last)",
      "Cell \u001b[1;32mIn [3], line 2\u001b[0m\n\u001b[0;32m      1\u001b[0m URL \u001b[38;5;241m=\u001b[39m \u001b[38;5;124m\"\u001b[39m\u001b[38;5;124mhttp://pytorch\u001b[39m\u001b[38;5;124m\"\u001b[39m\n\u001b[1;32m----> 2\u001b[0m \u001b[43mrender_site\u001b[49m\u001b[43m(\u001b[49m\u001b[43mURL\u001b[49m\u001b[43m)\u001b[49m\n",
      "File \u001b[1;32mf:\\YOUTUBE_2\\playground\\IPYNBrenderer\\env\\lib\\site-packages\\ensure\\main.py:849\u001b[0m, in \u001b[0;36mWrappedFunctionReturn.__call__\u001b[1;34m(self, *args, **kwargs)\u001b[0m\n\u001b[0;32m    841\u001b[0m         msg \u001b[39m=\u001b[39m (\n\u001b[0;32m    842\u001b[0m             \u001b[39m\"\u001b[39m\u001b[39mArgument \u001b[39m\u001b[39m{arg}\u001b[39;00m\u001b[39m of type \u001b[39m\u001b[39m{valt}\u001b[39;00m\u001b[39m to \u001b[39m\u001b[39m{f}\u001b[39;00m\u001b[39m \u001b[39m\u001b[39m\"\u001b[39m\n\u001b[0;32m    843\u001b[0m             \u001b[39m\"\u001b[39m\u001b[39mdoes not match annotation type \u001b[39m\u001b[39m{t}\u001b[39;00m\u001b[39m\"\u001b[39m\n\u001b[0;32m    844\u001b[0m         )\n\u001b[0;32m    845\u001b[0m         \u001b[39mraise\u001b[39;00m EnsureError(msg\u001b[39m.\u001b[39mformat(\n\u001b[0;32m    846\u001b[0m             arg\u001b[39m=\u001b[39marg, f\u001b[39m=\u001b[39m\u001b[39mself\u001b[39m\u001b[39m.\u001b[39mf, t\u001b[39m=\u001b[39mtempl, valt\u001b[39m=\u001b[39m\u001b[39mtype\u001b[39m(value)\n\u001b[0;32m    847\u001b[0m         ))\n\u001b[1;32m--> 849\u001b[0m return_val \u001b[39m=\u001b[39m \u001b[39mself\u001b[39;49m\u001b[39m.\u001b[39;49mf(\u001b[39m*\u001b[39;49margs, \u001b[39m*\u001b[39;49m\u001b[39m*\u001b[39;49mkwargs)\n\u001b[0;32m    850\u001b[0m \u001b[39mif\u001b[39;00m \u001b[39mnot\u001b[39;00m \u001b[39misinstance\u001b[39m(return_val, \u001b[39mself\u001b[39m\u001b[39m.\u001b[39mreturn_templ):\n\u001b[0;32m    851\u001b[0m     msg \u001b[39m=\u001b[39m (\n\u001b[0;32m    852\u001b[0m         \u001b[39m\"\u001b[39m\u001b[39mReturn value of \u001b[39m\u001b[39m{f}\u001b[39;00m\u001b[39m of type \u001b[39m\u001b[39m{valt}\u001b[39;00m\u001b[39m \u001b[39m\u001b[39m\"\u001b[39m\n\u001b[0;32m    853\u001b[0m         \u001b[39m\"\u001b[39m\u001b[39mdoes not match annotation type \u001b[39m\u001b[39m{t}\u001b[39;00m\u001b[39m\"\u001b[39m\n\u001b[0;32m    854\u001b[0m     )\n",
      "File \u001b[1;32mF:\\YOUTUBE_2\\playground\\IPYNBrenderer\\src\\IPYNBrenderer\\site.py:30\u001b[0m, in \u001b[0;36mrender_site\u001b[1;34m(URL, width, height)\u001b[0m\n\u001b[0;32m     28\u001b[0m         \u001b[39mraise\u001b[39;00m InvalidURLException\n\u001b[0;32m     29\u001b[0m \u001b[39mexcept\u001b[39;00m \u001b[39mException\u001b[39;00m \u001b[39mas\u001b[39;00m e:\n\u001b[1;32m---> 30\u001b[0m     \u001b[39mraise\u001b[39;00m e\n",
      "File \u001b[1;32mF:\\YOUTUBE_2\\playground\\IPYNBrenderer\\src\\IPYNBrenderer\\site.py:28\u001b[0m, in \u001b[0;36mrender_site\u001b[1;34m(URL, width, height)\u001b[0m\n\u001b[0;32m     26\u001b[0m         \u001b[39mreturn\u001b[39;00m \u001b[39m\"\u001b[39m\u001b[39msuccess\u001b[39m\u001b[39m\"\u001b[39m\n\u001b[0;32m     27\u001b[0m     \u001b[39melse\u001b[39;00m:\n\u001b[1;32m---> 28\u001b[0m         \u001b[39mraise\u001b[39;00m InvalidURLException\n\u001b[0;32m     29\u001b[0m \u001b[39mexcept\u001b[39;00m \u001b[39mException\u001b[39;00m \u001b[39mas\u001b[39;00m e:\n\u001b[0;32m     30\u001b[0m     \u001b[39mraise\u001b[39;00m e\n",
      "\u001b[1;31mInvalidURLException\u001b[0m: URL is not valid"
     ]
    }
   ],
   "source": [
    "URL = \"http://pytorch\"\n",
    "render_site(URL)"
   ]
  },
  {
   "cell_type": "code",
   "execution_count": null,
   "metadata": {},
   "outputs": [],
   "source": []
  }
 ],
 "metadata": {
  "kernelspec": {
   "display_name": "Python 3.8.13 (conda)",
   "language": "python",
   "name": "python3"
  },
  "language_info": {
   "codemirror_mode": {
    "name": "ipython",
    "version": 3
   },
   "file_extension": ".py",
   "mimetype": "text/x-python",
   "name": "python",
   "nbconvert_exporter": "python",
   "pygments_lexer": "ipython3",
   "version": "3.8.13"
  },
  "orig_nbformat": 4,
  "vscode": {
   "interpreter": {
    "hash": "9a54a38b40ef06367036eacd27909aaaca05bad8bda386716f795536d4b8961f"
   }
  }
 },
 "nbformat": 4,
 "nbformat_minor": 2
}
